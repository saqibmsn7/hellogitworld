{
  "cells": [
    {
      "cell_type": "markdown",
      "metadata": {
        "id": "view-in-github",
        "colab_type": "text"
      },
      "source": [
        "<a href=\"https://colab.research.google.com/github/saqibmsn7/hellogitworld/blob/master/tutorials/agentic-applications-by-xpander.ai/meeting-recorder-agent/creating_multi_step_ai_agents_with_xpander_tutorial.ipynb\" target=\"_parent\"><img src=\"https://colab.research.google.com/assets/colab-badge.svg\" alt=\"Open In Colab\"/></a>"
      ]
    },
    {
      "cell_type": "markdown",
      "metadata": {
        "id": "fG2WrQgvHRuM"
      },
      "source": [
        "![](https://europe-west1-atp-views-tracker.cloudfunctions.net/working-analytics?notebook=tutorials--agentic-applications-by-xpander-ai--meeting-recorder-agent--creating-multi-step-ai-agents-with-xpander-tutorial)\n",
        "\n",
        "# Creating Multi-Step AI Agents Using xpander.ai\n",
        "\n",
        "### Overview\n",
        "\n",
        "This tutorial walks you through building a complex, multi-step AI agent using a streamlined SDK and visual UI, without managing backend infrastructure. Using a real-world example, you’ll see how easy it is to connect tools, manage state, and deploy production-ready agents with minimal setup.\n",
        "\n",
        "### What is xpander.ai?\n",
        "\n",
        "xpander.ai is a Backend-as-a-Service platform for deploying and managing autonomous AI agents, without the overhead of backend infrastructure. It offers built-in memory, tool orchestration, and visual development tools, allowing you to move from prototype to production seamlessly.\n",
        "\n",
        "### Key Features & Benefits\n",
        "\n",
        "- 🧠 **Persistent Memory & State** – Built-in storage for long-term agent context  \n",
        "- 🔧 **Tool Orchestration** – Easily connect prebuilt tools or any API  \n",
        "- 🧪 **Visual Workbench** – Test, trace, and wire tools and prompts without code  \n",
        "- 🚀 **Multi-Channel Triggers** – Run agents from Slack, Webhooks, UIs, and more  \n",
        "- 🔍 **Observability & Tracing** – Inspect tool calls, model decisions, and payloads  \n",
        "- 🔒 **Secure Model Access** – Bring your own keys or use managed models  \n",
        "- ☁️ **Cloud-Native Runtime** – Scale agents reliably in production  \n",
        "- 🔄 **Composable Components** – Reuse tools and logic across agents  \n",
        "- ⚙️ **Zero Infrastructure Setup** – No need to manage queues, DBs, or servers\n",
        "\n",
        "In short, xpander.ai helps you build robust, real-world AI agents quickly and efficiently.\n",
        "\n",
        "### What You’ll Build\n",
        "\n",
        "This tutorial demonstrates a multi-agent setup built using xpander.ai. The example focuses on automating a meeting recording workflow, but it's just one possible use case. The framework is flexible, and you're free to build agents tailored to your own tools, data, and business logic.\n",
        "\n",
        "In this example, you’ll walk through creating a multi-step AI agent that:\n",
        "\n",
        "1. Connects to your Google Calendar to find upcoming meetings  \n",
        "2. Schedules and initiates meeting recordings  \n",
        "3. Checks recorder status and retrieves post-meeting assets (video & transcript)  \n",
        "4. Emails summaries and recordings to you or your team  \n",
        "5. Maintains memory and context across sessions  \n",
        "6. Uses simple Python functions as tools the agent can call directly  \n",
        "\n",
        "This example demonstrates how xpander.ai’s SDK and visual Workbench simplify the process of building, testing, and deploying production-grade agents. You'll combine low code and full code approaches with built-in observability and a fully managed runtime.\n",
        "\n",
        "Let’s dive in and see xpander.ai in action!"
      ]
    },
    {
      "cell_type": "markdown",
      "metadata": {
        "id": "It8rTw7tHRuO"
      },
      "source": [
        "### Installation\n",
        "\n",
        "Before coding, make sure you have the following:\n",
        "\n",
        "- **Python** ≥ 3.10 installed on your system\n",
        "\n",
        "First, let's install the required packages:"
      ]
    },
    {
      "cell_type": "code",
      "execution_count": 7,
      "metadata": {
        "colab": {
          "base_uri": "https://localhost:8080/",
          "height": 898
        },
        "id": "SeNXG63sHRuO",
        "outputId": "774ac8a7-0b3d-4c29-dba1-529e8dad4eab"
      },
      "outputs": [
        {
          "output_type": "stream",
          "name": "stdout",
          "text": [
            "Requirement already satisfied: xpander-sdk==1.63.0 in /usr/local/lib/python3.11/dist-packages (from -r requirements.txt (line 2)) (1.63.0)\n",
            "Requirement already satisfied: openai in /usr/local/lib/python3.11/dist-packages (from -r requirements.txt (line 10)) (1.86.0)\n",
            "Collecting python-dotenv (from -r requirements.txt (line 13))\n",
            "  Downloading python_dotenv-1.1.0-py3-none-any.whl.metadata (24 kB)\n",
            "Collecting loguru (from -r requirements.txt (line 16))\n",
            "  Downloading loguru-0.7.3-py3-none-any.whl.metadata (22 kB)\n",
            "Collecting asyncio (from -r requirements.txt (line 19))\n",
            "  Downloading asyncio-3.4.3-py3-none-any.whl.metadata (1.7 kB)\n",
            "Collecting reportlab (from -r requirements.txt (line 22))\n",
            "  Downloading reportlab-4.4.2-py3-none-any.whl.metadata (1.8 kB)\n",
            "Requirement already satisfied: jsii<2.0.0,>=1.108.0 in /usr/local/lib/python3.11/dist-packages (from xpander-sdk==1.63.0->-r requirements.txt (line 2)) (1.112.0)\n",
            "Requirement already satisfied: publication>=0.0.3 in /usr/local/lib/python3.11/dist-packages (from xpander-sdk==1.63.0->-r requirements.txt (line 2)) (0.0.3)\n",
            "Requirement already satisfied: typeguard<4.3.0,>=2.13.3 in /usr/local/lib/python3.11/dist-packages (from xpander-sdk==1.63.0->-r requirements.txt (line 2)) (4.2.1)\n",
            "Requirement already satisfied: anyio<5,>=3.5.0 in /usr/local/lib/python3.11/dist-packages (from openai->-r requirements.txt (line 10)) (4.9.0)\n",
            "Requirement already satisfied: distro<2,>=1.7.0 in /usr/local/lib/python3.11/dist-packages (from openai->-r requirements.txt (line 10)) (1.9.0)\n",
            "Requirement already satisfied: httpx<1,>=0.23.0 in /usr/local/lib/python3.11/dist-packages (from openai->-r requirements.txt (line 10)) (0.28.1)\n",
            "Requirement already satisfied: jiter<1,>=0.4.0 in /usr/local/lib/python3.11/dist-packages (from openai->-r requirements.txt (line 10)) (0.10.0)\n",
            "Requirement already satisfied: pydantic<3,>=1.9.0 in /usr/local/lib/python3.11/dist-packages (from openai->-r requirements.txt (line 10)) (2.11.7)\n",
            "Requirement already satisfied: sniffio in /usr/local/lib/python3.11/dist-packages (from openai->-r requirements.txt (line 10)) (1.3.1)\n",
            "Requirement already satisfied: tqdm>4 in /usr/local/lib/python3.11/dist-packages (from openai->-r requirements.txt (line 10)) (4.67.1)\n",
            "Requirement already satisfied: typing-extensions<5,>=4.11 in /usr/local/lib/python3.11/dist-packages (from openai->-r requirements.txt (line 10)) (4.14.0)\n",
            "Requirement already satisfied: pillow>=9.0.0 in /usr/local/lib/python3.11/dist-packages (from reportlab->-r requirements.txt (line 22)) (11.2.1)\n",
            "Requirement already satisfied: charset-normalizer in /usr/local/lib/python3.11/dist-packages (from reportlab->-r requirements.txt (line 22)) (3.4.2)\n",
            "Requirement already satisfied: idna>=2.8 in /usr/local/lib/python3.11/dist-packages (from anyio<5,>=3.5.0->openai->-r requirements.txt (line 10)) (3.10)\n",
            "Requirement already satisfied: certifi in /usr/local/lib/python3.11/dist-packages (from httpx<1,>=0.23.0->openai->-r requirements.txt (line 10)) (2025.6.15)\n",
            "Requirement already satisfied: httpcore==1.* in /usr/local/lib/python3.11/dist-packages (from httpx<1,>=0.23.0->openai->-r requirements.txt (line 10)) (1.0.9)\n",
            "Requirement already satisfied: h11>=0.16 in /usr/local/lib/python3.11/dist-packages (from httpcore==1.*->httpx<1,>=0.23.0->openai->-r requirements.txt (line 10)) (0.16.0)\n",
            "Requirement already satisfied: attrs<26.0,>=21.2 in /usr/local/lib/python3.11/dist-packages (from jsii<2.0.0,>=1.108.0->xpander-sdk==1.63.0->-r requirements.txt (line 2)) (25.3.0)\n",
            "Requirement already satisfied: cattrs<24.2,>=1.8 in /usr/local/lib/python3.11/dist-packages (from jsii<2.0.0,>=1.108.0->xpander-sdk==1.63.0->-r requirements.txt (line 2)) (24.1.3)\n",
            "Requirement already satisfied: importlib_resources>=5.2.0 in /usr/local/lib/python3.11/dist-packages (from jsii<2.0.0,>=1.108.0->xpander-sdk==1.63.0->-r requirements.txt (line 2)) (6.5.2)\n",
            "Requirement already satisfied: python-dateutil in /usr/local/lib/python3.11/dist-packages (from jsii<2.0.0,>=1.108.0->xpander-sdk==1.63.0->-r requirements.txt (line 2)) (2.9.0.post0)\n",
            "Requirement already satisfied: annotated-types>=0.6.0 in /usr/local/lib/python3.11/dist-packages (from pydantic<3,>=1.9.0->openai->-r requirements.txt (line 10)) (0.7.0)\n",
            "Requirement already satisfied: pydantic-core==2.33.2 in /usr/local/lib/python3.11/dist-packages (from pydantic<3,>=1.9.0->openai->-r requirements.txt (line 10)) (2.33.2)\n",
            "Requirement already satisfied: typing-inspection>=0.4.0 in /usr/local/lib/python3.11/dist-packages (from pydantic<3,>=1.9.0->openai->-r requirements.txt (line 10)) (0.4.1)\n",
            "Requirement already satisfied: six>=1.5 in /usr/local/lib/python3.11/dist-packages (from python-dateutil->jsii<2.0.0,>=1.108.0->xpander-sdk==1.63.0->-r requirements.txt (line 2)) (1.17.0)\n",
            "Downloading python_dotenv-1.1.0-py3-none-any.whl (20 kB)\n",
            "Downloading loguru-0.7.3-py3-none-any.whl (61 kB)\n",
            "\u001b[2K   \u001b[90m━━━━━━━━━━━━━━━━━━━━━━━━━━━━━━━━━━━━━━━━\u001b[0m \u001b[32m61.6/61.6 kB\u001b[0m \u001b[31m2.8 MB/s\u001b[0m eta \u001b[36m0:00:00\u001b[0m\n",
            "\u001b[?25hDownloading asyncio-3.4.3-py3-none-any.whl (101 kB)\n",
            "\u001b[2K   \u001b[90m━━━━━━━━━━━━━━━━━━━━━━━━━━━━━━━━━━━━━━━━\u001b[0m \u001b[32m101.8/101.8 kB\u001b[0m \u001b[31m7.4 MB/s\u001b[0m eta \u001b[36m0:00:00\u001b[0m\n",
            "\u001b[?25hDownloading reportlab-4.4.2-py3-none-any.whl (2.0 MB)\n",
            "\u001b[2K   \u001b[90m━━━━━━━━━━━━━━━━━━━━━━━━━━━━━━━━━━━━━━━━\u001b[0m \u001b[32m2.0/2.0 MB\u001b[0m \u001b[31m32.8 MB/s\u001b[0m eta \u001b[36m0:00:00\u001b[0m\n",
            "\u001b[?25hInstalling collected packages: asyncio, reportlab, python-dotenv, loguru\n",
            "Successfully installed asyncio-3.4.3 loguru-0.7.3 python-dotenv-1.1.0 reportlab-4.4.2\n"
          ]
        },
        {
          "output_type": "display_data",
          "data": {
            "application/vnd.colab-display-data+json": {
              "pip_warning": {
                "packages": [
                  "asyncio"
                ]
              },
              "id": "27f5e868825244fd91e2d57228ad52b5"
            }
          },
          "metadata": {}
        }
      ],
      "source": [
        "%pip install -r requirements.txt"
      ]
    },
    {
      "cell_type": "markdown",
      "metadata": {
        "id": "NRXht6DTHRuP"
      },
      "source": [
        "# Set Up and Build the AI Agent\n",
        "\n",
        "## 1. Register and Log In to xpander.ai\n",
        "\n",
        "To get started, visit [https://app.xpander.ai](https://app.xpander.ai/login?utm=atp) and sign up for a **Free Account**.\n",
        "\n",
        "If you already have an account, simply log in with your credentials.\n",
        "\n",
        "<div style=\"text-align: center;\">\n",
        "<img src=\"https://github.com/NirDiamant/agents-towards-production/blob/main/tutorials/agentic-applications-by-xpander.ai/meeting-recorder-agent/assets/images/xpander-login.png?raw=1\" width=\"800\">\n",
        "</div>\n",
        "\n",
        "<br>\n",
        "\n",
        "> 💡 **Tip:** xpander.ai supports login with Google or Github accounts.\n",
        "\n",
        "---\n",
        "\n",
        "## 2. Preview: What You'll See After Importing the Agent\n",
        "\n",
        "Once you import the agent template (coming up in the next step), your screen will look something like this:\n",
        "\n",
        "<div style=\"text-align: center;\">\n",
        "<img src=\"https://github.com/NirDiamant/agents-towards-production/blob/main/tutorials/agentic-applications-by-xpander.ai/meeting-recorder-agent/assets/images/agent-screenshot.png?raw=1\" width=\"900\">\n",
        "</div>\n",
        "\n",
        "<div style=\"\n",
        "  border-left: 4px solid #42b983;\n",
        "  padding-left: 1em;\n",
        "  margin: 1em 0;\n",
        "  font-size: 14px;\n",
        "\">\n",
        "  <strong>💡 </strong> Quick rundown of the xpander.ai Agent Workbench:\n",
        "\n",
        "  * The top nodes are source nodes - you use them to configure different ways to trigger your agent.\n",
        "\n",
        "  * The box marked \"Meeting Recording Agent - (Imported)\" is a visual representation of your agent.\n",
        "\n",
        "  * Nodes inside the agent are tools (for function calling). Every time the agent is triggered, these tools are presented to the model as its available tools in the inference call.\n",
        "  \n",
        "  * You can click the Settings (⚙️) button to see all the settings for your agent, such as instructions, memory settings, conversation starters, and more.\n",
        "</div>\n",
        "\n",
        "----\n",
        "\n",
        "## 3. Import the Prebuilt Agent Template\n",
        "\n",
        "We’ve created a preconfigured template that includes everything you need to run the Meeting Recorder Agent.\n",
        "\n",
        "### ⚠️ Important:\n",
        "\n",
        "- You will be redirected to the xpander.ai platform.\n",
        "- Follow the steps to import the template into your workspace.\n",
        "- Name the agent (or keep the default).\n",
        "- Once it's loaded, **return to this tutorial**\n",
        "\n",
        "We’ll guide you through using it step-by-step.\n",
        "\n",
        "<br>\n",
        "<div style=\"text-align: center;\">\n",
        "  <a href=\"https://app.xpander.ai/templates/48039a71-c99c-4691-8b66-a6faca3ccbe4?utm=atp\" target=\"_blank\">\n",
        "    <button style=\"background-color:#6741d9;color:white;padding:10px 20px;font-size:14px;border:none;border-radius:8px;cursor:pointer;\">\n",
        "      Import Meeting Recorder Agent Template\n",
        "    </button>\n",
        "  </a>\n",
        "</div>\n",
        "<br>\n",
        "\n",
        " 💡 After completing the template import, make sure your agent looks similar to the image above, and that you complete the connection to Google Calendar (make sure there's no red exclamation mark (❗) on your Google Calendar tool)"
      ]
    },
    {
      "cell_type": "markdown",
      "metadata": {
        "id": "Lxncftx-HRuP"
      },
      "source": [
        "## 4. Using the Agent from the UI\n",
        "\n",
        "Once you’ve imported the Meeting Recorder Agent, it’s ready to use no extra setup required.\n",
        "\n",
        "In addition to running it from code, you can test and interact with your agent directly from the xpander.ai platform using a simple user interface.\n",
        "\n",
        "This is perfect for quick testing or for non-technical users who want to try out the agent’s capabilities.\n",
        "\n",
        "---\n",
        "\n",
        "### ▶️ Demo 1: Testing the Agent via the Workbench\n",
        "\n",
        "This demo shows how to use the **Test Agent** tab in the xpander.ai Workbench.\n",
        "\n",
        "You'll see how to start a conversation with the agent, ask it to schedule a meeting recorder, and watch how it selects and runs the right tool.\n",
        "\n",
        "📍 The Test Agent tab is perfect for debugging and testing tool-based workflows.\n",
        "\n",
        "<video controls width=\"100%\">\n",
        "  <source src=\"assets/videos/meeting-recorder.mp4\" type=\"video/mp4\">\n",
        "  Your browser does not support the video tag.\n",
        "</video>\n",
        "\n",
        "---\n",
        "\n",
        "### ▶️ Demo 2: Triggering the Agent from the Chat UI\n",
        "\n",
        "This demo shows how to interact with your agent through the **Chat UI**, just like you would with a chatbot or assistant.\n",
        "\n",
        "📍 This interface is great for real world usage or sharing your agent with others.\n",
        "\n",
        "<video controls width=\"100%\">\n",
        "  <source src=\"assets/videos/post-meeting.mp4\" type=\"video/mp4\">\n",
        "  Your browser does not support the video tag.\n",
        "</video>\n"
      ]
    },
    {
      "cell_type": "markdown",
      "metadata": {
        "id": "027gq_b4HRuP"
      },
      "source": [
        "## 5. Create Your .env File\n",
        "\n",
        "To run your agent from code, create a .env file in your project root with these values:\n",
        "\n",
        "* XPANDER_API_KEY=your_xpander_api_key\n",
        "* XPANDER_AGENT_ID=your_imported_agent_id\n",
        "* OPENAI_API_KEY=your_openai_api_key\n",
        "\n",
        "- **Get XPANDER keys**: Open your imported agent on xpander.ai platform, click the **SDK** node (top bar), and copy both keys.  \n",
        "- **Get OPENAI key**: From [OpenAI’s API keys page](https://platform.openai.com/account/api-keys)"
      ]
    },
    {
      "cell_type": "markdown",
      "metadata": {
        "id": "eBEGYwzgHRuP"
      },
      "source": [
        "## 6. Add Your Own Python Function as a Local Tool\n",
        "\n",
        "In this step, you'll learn how to connect a custom Python function to your agent and make it callable  just like built-in tools.\n",
        "\n",
        "This means you can now extend your agent with any Python logic you want, without deploying APIs or writing backend infrastructure.\n",
        "\n",
        "### 6.1 Required Imports and Setup\n",
        "\n",
        "First, let's import all the necessary libraries and set up our environment."
      ]
    },
    {
      "cell_type": "code",
      "execution_count": null,
      "metadata": {
        "id": "At2qDWYiHRuQ"
      },
      "outputs": [],
      "source": [
        "# Core dependencies for agent functionality\n",
        "from xpander_sdk import Agent, XpanderClient, LLMProvider, ToolCallResult, Tokens, LLMTokens\n",
        "from openai import OpenAI\n",
        "import os\n",
        "import time\n",
        "from datetime import datetime\n",
        "from dotenv import load_dotenv\n",
        "\n",
        "# PDF generation dependencies\n",
        "from reportlab.lib.pagesizes import A4\n",
        "from reportlab.platypus import SimpleDocTemplate, Table, TableStyle, Paragraph, Spacer\n",
        "from reportlab.lib import colors\n",
        "from reportlab.lib.styles import getSampleStyleSheet, ParagraphStyle\n",
        "from reportlab.lib.enums import TA_LEFT\n",
        "from reportlab.lib.units import cm\n",
        "import tempfile\n",
        "import shutil\n",
        "\n",
        "# Load environment variables and initialize clients\n",
        "load_dotenv()\n",
        "xpander_client = XpanderClient(api_key=os.environ['XPANDER_API_KEY'])\n",
        "openai_client = OpenAI(api_key=os.environ['OPENAI_API_KEY'])"
      ]
    },
    {
      "cell_type": "markdown",
      "metadata": {
        "id": "8vctfXlGHRuQ"
      },
      "source": [
        "### 6.2 Creating the PDF Generation Local Function\n",
        "\n",
        "Now, let's create our custom function that generates a PDF meeting schedule. This function takes a list of meetings and creates a well-formatted PDF agenda with the following features:\n",
        "\n",
        "- Chronological sorting of meetings\n",
        "- Clean table layout with headers\n",
        "- Formatted date and time display\n",
        "- Participant list formatting\n",
        "- Automatic saving to Downloads folder"
      ]
    },
    {
      "cell_type": "code",
      "execution_count": null,
      "metadata": {
        "id": "PcGyytmKHRuQ"
      },
      "outputs": [],
      "source": [
        "def export_meeting_schedule_pdf(meetings: list) -> str:\n",
        "    \"\"\"\n",
        "    Generate a clean, well-formatted PDF agenda for weekly meetings and save it to the user's Downloads folder.\n",
        "    Returns the full path to the saved PDF.\n",
        "\n",
        "    Args:\n",
        "        meetings (list): List of meeting dictionaries containing:\n",
        "            - title (str): Meeting title\n",
        "            - start_time (str): ISO 8601 formatted start time\n",
        "            - end_time (str): ISO 8601 formatted end time\n",
        "            - location (str, optional): Meeting location\n",
        "            - participants (list, optional): List of participant names/emails\n",
        "    \"\"\"\n",
        "    if not meetings:\n",
        "        return \"No meetings provided.\"\n",
        "\n",
        "    # Sort meetings by start time for chronological order\n",
        "    meetings.sort(key=lambda m: m.get(\"start_time\", \"\"))\n",
        "\n",
        "    # Create temporary PDF file\n",
        "    temp_pdf = tempfile.NamedTemporaryFile(delete=False, suffix=\".pdf\")\n",
        "    doc = SimpleDocTemplate(temp_pdf.name, pagesize=A4)\n",
        "    elements = []\n",
        "\n",
        "    # Add title and styling\n",
        "    styles = getSampleStyleSheet()\n",
        "    title = Paragraph(\"<b>Weekly Meeting Agenda</b>\", styles[\"Title\"])\n",
        "    elements.append(title)\n",
        "    elements.append(Spacer(1, 12))\n",
        "\n",
        "    # Define paragraph style for table cells\n",
        "    cell_style = ParagraphStyle(name='Cell', fontSize=10, leading=12, alignment=TA_LEFT)\n",
        "\n",
        "    # Prepare table data with headers\n",
        "    data = [[\"Date\", \"Time\", \"Title\", \"Location\", \"Participants\"]]\n",
        "\n",
        "    # Process each meeting\n",
        "    for meeting in meetings:\n",
        "        try:\n",
        "            # Format date and time\n",
        "            start_dt = datetime.fromisoformat(meeting[\"start_time\"])\n",
        "            end_dt = datetime.fromisoformat(meeting[\"end_time\"])\n",
        "            date = start_dt.strftime(\"%A, %b %d\")\n",
        "            time = f\"{start_dt.strftime('%H:%M')} - {end_dt.strftime('%H:%M')}\"\n",
        "        except Exception:\n",
        "            date = time = \"Invalid\"\n",
        "\n",
        "        # Format meeting details\n",
        "        title = Paragraph(meeting.get(\"title\", \"Untitled\"), cell_style)\n",
        "        location = Paragraph(meeting.get(\"location\", \"—\"), cell_style)\n",
        "        attendees = meeting.get(\"participants\") or meeting.get(\"attendees\") or []\n",
        "        participants = Paragraph(\", \".join(attendees) if isinstance(attendees, list) else str(attendees), cell_style)\n",
        "\n",
        "        data.append([date, time, title, location, participants])\n",
        "\n",
        "    # Create and style the table\n",
        "    table = Table(data, colWidths=[3.5*cm, 3*cm, 5*cm, 4*cm, 5*cm])\n",
        "    table.setStyle(TableStyle([\n",
        "        # Header styling\n",
        "        ('BACKGROUND', (0, 0), (-1, 0), colors.HexColor(\"#6741d9\")),\n",
        "        ('TEXTCOLOR', (0, 0), (-1, 0), colors.white),\n",
        "        ('FONTNAME', (0, 0), (-1, 0), 'Helvetica-Bold'),\n",
        "        ('ALIGN', (0, 0), (-1, 0), 'CENTER'),\n",
        "\n",
        "        # Body styling\n",
        "        ('FONTNAME', (0, 1), (-1, -1), 'Helvetica'),\n",
        "        ('FONTSIZE', (0, 1), (-1, -1), 10),\n",
        "        ('VALIGN', (0, 1), (-1, -1), 'TOP'),\n",
        "        ('LEFTPADDING', (0, 1), (-1, -1), 6),\n",
        "        ('RIGHTPADDING', (0, 1), (-1, -1), 6),\n",
        "        ('BOTTOMPADDING', (0, 1), (-1, -1), 6),\n",
        "        ('GRID', (0, 0), (-1, -1), 0.5, colors.grey),\n",
        "        ('ROWBACKGROUNDS', (0, 1), (-1, -1), [colors.whitesmoke, colors.lightgrey])\n",
        "    ]))\n",
        "\n",
        "    elements.append(table)\n",
        "    doc.build(elements)\n",
        "\n",
        "    # Save final PDF to Downloads folder\n",
        "    downloads_path = os.path.join(os.path.expanduser(\"~\"), \"Downloads\")\n",
        "    os.makedirs(downloads_path, exist_ok=True)\n",
        "\n",
        "    filename = f\"weekly_meeting_agenda_{datetime.now().strftime('%Y%m%d_%H%M%S')}.pdf\"\n",
        "    final_path = os.path.join(downloads_path, filename)\n",
        "    shutil.copy(temp_pdf.name, final_path)\n",
        "\n",
        "    return final_path"
      ]
    },
    {
      "cell_type": "markdown",
      "metadata": {
        "id": "XzJRuKVfHRuQ"
      },
      "source": [
        "### 6.3 Defining the Tool Schema\n",
        "\n",
        "Now, let's define the tool schema that enables LLM function calling. This schema acts as a contract between your Python function and the LLM, telling the model:\n",
        "\n",
        "- How to understand and use your function\n",
        "- What parameters it needs to provide\n",
        "- What data types to expect\n",
        "- How to format the function call\n",
        "\n",
        "This schema follows the OpenAI function calling format, allowing the LLM to properly call your Python function when needed."
      ]
    },
    {
      "cell_type": "code",
      "execution_count": null,
      "metadata": {
        "id": "1YFUZO3yHRuQ"
      },
      "outputs": [],
      "source": [
        "# Define the tool schema\n",
        "local_tools = [{\n",
        "    \"declaration\": {\n",
        "        \"type\": \"function\",\n",
        "        \"function\": {\n",
        "            \"name\": \"export_meeting_schedule_pdf\",\n",
        "            \"description\": \"Generate a weekly meeting agenda as a PDF from a list of meetings.\",\n",
        "            \"parameters\": {\n",
        "                \"type\": \"object\",\n",
        "                \"properties\": {\n",
        "                    \"meetings\": {\n",
        "                        \"type\": \"array\",\n",
        "                        \"description\": \"List of meetings to include in the agenda.\",\n",
        "                        \"items\": {\n",
        "                            \"type\": \"object\",\n",
        "                            \"properties\": {\n",
        "                                \"title\": {\n",
        "                                    \"type\": \"string\",\n",
        "                                    \"description\": \"Title of the meeting\"\n",
        "                                },\n",
        "                                \"start_time\": {\n",
        "                                    \"type\": \"string\",\n",
        "                                    \"description\": \"Start time in ISO 8601 format\"\n",
        "                                },\n",
        "                                \"end_time\": {\n",
        "                                    \"type\": \"string\",\n",
        "                                    \"description\": \"End time in ISO 8601 format\"\n",
        "                                },\n",
        "                                \"location\": {\n",
        "                                    \"type\": \"string\",\n",
        "                                    \"description\": \"Meeting location (optional)\"\n",
        "                                },\n",
        "                                \"participants\": {\n",
        "                                    \"type\": \"array\",\n",
        "                                    \"items\": {\"type\": \"string\"},\n",
        "                                    \"description\": \"List of participant names or emails\"\n",
        "                                }\n",
        "                            },\n",
        "                            \"required\": [\"title\", \"start_time\", \"end_time\"]\n",
        "                        }\n",
        "                    }\n",
        "                },\n",
        "                \"required\": [\"meetings\"]\n",
        "            }\n",
        "        }\n",
        "    },\n",
        "    \"fn\": export_meeting_schedule_pdf\n",
        "}]\n",
        "\n",
        "# Create tool mappings for the agent\n",
        "local_tools_list = [tool['declaration'] for tool in local_tools]\n",
        "local_tools_by_name = {tool['declaration']['function']['name']: tool['fn']\n",
        "                       for tool in local_tools}"
      ]
    },
    {
      "cell_type": "markdown",
      "metadata": {
        "id": "WNTQF9EHHRuR"
      },
      "source": [
        "## 7. Running the Agent\n",
        "\n",
        "In this step, you'll learn how to run your agent with both built-in and custom tools. The code is split into three main functions that work together:\n",
        "\n",
        "### 7.1 Setting Up the Agent\n",
        "\n",
        "First, let's create a function to load your agent from xpander.ai:"
      ]
    },
    {
      "cell_type": "code",
      "execution_count": null,
      "metadata": {
        "id": "ztuepfmtHRuR"
      },
      "outputs": [],
      "source": [
        "# Function to create or load an agent\n",
        "def setup_agent() -> Agent:\n",
        "    \"\"\"load the meeting recording Agent from xpander.ai\"\"\"\n",
        "    agent = xpander_client.agents.get(agent_id=os.environ['XPANDER_AGENT_ID'])\n",
        "    print(f\"🔄 Loaded agent: {agent.name}\")\n",
        "    print(f\"🔍 View this agent in the Xpander platform with ID: https://app.xpander.ai/agents/{agent.id}\")\n",
        "    return agent"
      ]
    },
    {
      "cell_type": "markdown",
      "metadata": {
        "id": "C6dz89QRHRuR"
      },
      "source": [
        "### 7.2 The Agent Loop\n",
        "\n",
        "The core loop that drives your agent’s behavior. It:\n",
        "\n",
        "- Sends the agent’s messages to the LLM (`gpt-4o`)\n",
        "- Tracks token usage and reports it to xpander.ai\n",
        "- Handles tool calls:\n",
        "  - ☁️ Built-in/cloud tools\n",
        "  - 🛠️ Your custom local tools (like the PDF generator)\n",
        "- Feeds tool results back into memory for multi-step reasoning\n",
        "- Ends when the agent’s task is complete"
      ]
    },
    {
      "cell_type": "code",
      "execution_count": null,
      "metadata": {
        "id": "_GqAGQtbHRuR"
      },
      "outputs": [],
      "source": [
        "# Agent execution loop with local tools support\n",
        "def agent_loop(agent: Agent, local_tools_by_name=None):\n",
        "    print(\"🪄 Starting Agent Loop\")\n",
        "    # Initialize token tracking and timing\n",
        "    execution_tokens = Tokens(worker=LLMTokens(completion_tokens=0, prompt_tokens=0, total_tokens=0))\n",
        "    execution_start_time = time.perf_counter()\n",
        "\n",
        "    while not agent.is_finished():\n",
        "        # Get response from OpenAI\n",
        "        start_time = time.perf_counter()\n",
        "        response = openai_client.chat.completions.create(\n",
        "            model=\"gpt-4o\",\n",
        "            messages=agent.messages,\n",
        "            tools=agent.get_tools(llm_provider=LLMProvider.OPEN_AI),\n",
        "            tool_choice=agent.tool_choice,\n",
        "            temperature=0\n",
        "        )\n",
        "\n",
        "        # Track token usage\n",
        "        execution_tokens.worker.completion_tokens += response.usage.completion_tokens\n",
        "        execution_tokens.worker.prompt_tokens += response.usage.prompt_tokens\n",
        "        execution_tokens.worker.total_tokens += response.usage.total_tokens\n",
        "\n",
        "        # Report LLM usage to Xpander\n",
        "        agent.report_llm_usage(\n",
        "            llm_response=response.model_dump(),\n",
        "            llm_inference_duration=time.perf_counter() - start_time,\n",
        "            llm_provider=LLMProvider.OPEN_AI\n",
        "        )\n",
        "\n",
        "        agent.add_messages(response.model_dump())\n",
        "\n",
        "        # Handle tool calls\n",
        "        tool_calls = XpanderClient.extract_tool_calls(\n",
        "            llm_response=response.model_dump(),\n",
        "            llm_provider=LLMProvider.OPEN_AI\n",
        "        )\n",
        "\n",
        "        if tool_calls:\n",
        "            # Display which tools are being used\n",
        "            for call in tool_calls:\n",
        "                name = getattr(call, 'name', None) or getattr(getattr(call, 'function', {}), 'name', \"unnamed\")\n",
        "                print(f\"🔧 Using tool: {name}\")\n",
        "\n",
        "            # Run cloud tools\n",
        "            agent.run_tools(tool_calls=tool_calls)\n",
        "\n",
        "            # Run local tools if provided\n",
        "            if local_tools_by_name:\n",
        "                pending_local_tool_execution = XpanderClient.retrieve_pending_local_tool_calls(tool_calls=tool_calls)\n",
        "                local_tools_results = []\n",
        "\n",
        "                for tc in pending_local_tool_execution:\n",
        "                    print(f\"🛠️ Running local tool: {tc.name}\")\n",
        "                    tool_call_result = ToolCallResult(function_name=tc.name, tool_call_id=tc.tool_call_id, payload=tc.payload)\n",
        "                    try:\n",
        "                        if tc.name in local_tools_by_name:\n",
        "                            tool_call_result.is_success = True\n",
        "                            tool_call_result.result = local_tools_by_name[tc.name](**tc.payload)\n",
        "                        else:\n",
        "                            raise Exception(f\"Local tool {tc.name} not found\")\n",
        "                    except Exception as e:\n",
        "                        tool_call_result.is_success = False\n",
        "                        tool_call_result.is_error = True\n",
        "                        tool_call_result.result = str(e)\n",
        "                    finally:\n",
        "                        local_tools_results.append(tool_call_result)\n",
        "\n",
        "                if local_tools_results:\n",
        "                    print(f\"📝 Registering {len(local_tools_results)} local tool results...\")\n",
        "                    agent.memory.add_tool_call_results(tool_call_results=local_tools_results)\n",
        "\n",
        "    # Report execution metrics to Xpander\n",
        "    agent.report_execution_metrics(\n",
        "        llm_tokens=execution_tokens,\n",
        "        ai_model=\"gpt-4o\"\n",
        "    )\n",
        "\n",
        "    print(f\"✨ Execution duration: {time.perf_counter() - execution_start_time:.2f} seconds\")\n",
        "    print(f\"🔢 Total tokens used: {execution_tokens.worker.total_tokens}\")"
      ]
    },
    {
      "cell_type": "markdown",
      "metadata": {
        "id": "d0Gfoi5kHRuR"
      },
      "source": [
        "#### Understanding the Agent Loop\n",
        "\n",
        "To help visualize the complex logic inside the `agent_loop` function, here's a flowchart showing how it processes tasks and makes decisions:\n",
        "\n",
        "<div style=\"text-align: center;\">\n",
        "<img src=\"https://github.com/NirDiamant/agents-towards-production/blob/main/tutorials/agentic-applications-by-xpander.ai/meeting-recorder-agent/assets/images/agent_loop_visualization.png?raw=1\" width=1000\">\n",
        "</div>\n",
        "<br>\n",
        "\n",
        "#### Key Components Explained\n",
        "\n",
        "1. **Initialization** - Sets up tracking and timing for the agent's execution\n",
        "\n",
        "2. **Main Loop** - Manages the conversation flow and tool execution until completion\n",
        "\n",
        "3. **LLM Interaction** - Handles communication with OpenAI and tracks usage metrics\n",
        "\n",
        "4. **Tool Management** - Processes both cloud and local tools, updating agent memory\n",
        "\n",
        "5. **Metrics & Reporting** - Tracks and reports execution metrics to xpander.ai\n",
        "\n",
        "#### Flow Control\n",
        "\n",
        "- 🔄 **Loop Control**: The agent continues processing until `is_finished()` returns true\n",
        "- 🔍 **Tool Detection**: Automatically identifies when tools need to be called\n",
        "- 🛠️ **Tool Execution**: Handles both cloud-based and local tools\n",
        "- 📊 **Metrics**: Tracks and reports all important metrics throughout execution\n",
        "\n",
        "This visualization helps understand how the agent processes tasks, interacts with tools, and maintains state throughout its execution cycle."
      ]
    },
    {
      "cell_type": "markdown",
      "metadata": {
        "id": "3uBQUSSYHRuR"
      },
      "source": [
        "### 7.3 Chat Interface\n",
        "\n",
        "Finally, let's create a simple chat interface to interact with your agent.\n",
        "\n",
        "The `chat()` function provides a simple interface to:\n",
        "- Send messages to your agent\n",
        "- Run the full agent loop\n",
        "- Get responses and maintain conversation context\n",
        "- Use both built-in and custom tools"
      ]
    },
    {
      "cell_type": "code",
      "execution_count": null,
      "metadata": {
        "id": "g5IvBlWWHRuR"
      },
      "outputs": [],
      "source": [
        "def chat(agent: Agent, message, thread_id=None, local_tools_by_name=None):\n",
        "    \"\"\"Send a message to the agent and get a response\"\"\"\n",
        "    print(f\"\\n👤 User: {message}\")\n",
        "\n",
        "    # Add task to agent (using thread_id for conversation continuity)\n",
        "    agent.add_task(input=message, thread_id=thread_id)\n",
        "\n",
        "    # Run the agent loop\n",
        "    agent_loop(agent, local_tools_by_name)\n",
        "\n",
        "    # Get and return result\n",
        "    result = agent.retrieve_execution_result()\n",
        "    print(f\"🤖 Agent: {result.result}\")\n",
        "    print(f\"🧵 Thread ID: {result.memory_thread_id}\")\n",
        "    return result.memory_thread_id"
      ]
    },
    {
      "cell_type": "markdown",
      "metadata": {
        "id": "7HPo6PkQHRuR"
      },
      "source": [
        "## 8. Usage Examples: Interacting with the Agent\n",
        "\n",
        "Now that the agent is set up and ready, let’s try a few example prompts to see how it behaves.\n",
        "\n",
        "We'll start by asking the agent a simple question to understand its capabilities:\n",
        "\n",
        "**\"Hi! What can you do?\"**\n",
        "\n",
        "This will:\n",
        "\n",
        "- Start a new memory thread\n",
        "- Send the prompt to the agent\n",
        "- Print the response based on the agent’s instructions\n",
        "\n",
        "More examples will follow to demonstrate how the agent uses tools, manages context, and completes real tasks.\n"
      ]
    },
    {
      "cell_type": "code",
      "execution_count": null,
      "metadata": {
        "id": "5lyVEH4AHRuR"
      },
      "outputs": [],
      "source": [
        "# initialize the agent\n",
        "agent = setup_agent()\n",
        "# Add local tools to the agent\n",
        "agent.add_local_tools(local_tools_list)\n",
        "print(\"🧰 Local tools added to agent\")\n",
        "# start the conversation\n",
        "thread_id = chat(agent, 'Hi! What can you do?', local_tools_by_name=local_tools_by_name)\n"
      ]
    },
    {
      "cell_type": "markdown",
      "metadata": {
        "id": "gQr8ZqjnHRuR"
      },
      "source": [
        "##### Add Calendar Integration:\n",
        "Now let’s try a real use case: asking the agent to retrieve your upcoming meetings from Google Calendar.\n",
        "\n",
        "This example reuses the same thread created earlier (so the agent maintains context).  \n",
        "You simply send a follow-up prompt asking for meeting details on a specific date.\n",
        "\n",
        "---\n",
        "\n",
        "<div style=\"border-left: 4px solid #42b983; padding-left: 1em; margin: 1em 0; font-size: 14px; line-height: 1.6\">\n",
        "  <p>\n",
        "    <strong>🚨 Replace</strong> <code>&lt;DATE&gt;</code> <strong>with the actual date you want to query.</strong><br>\n",
        "    <span> Format examples:</span> <code>May 21 2025</code>, <code>2025-05-21</code><br>\n",
        "    <span> Example prompt:</span><br>\n",
        "    <code>List my upcoming meetings on May 21 2025 and the three consecutive days...</code>\n",
        "  </p>\n",
        "</div>\n"
      ]
    },
    {
      "cell_type": "code",
      "execution_count": null,
      "metadata": {
        "id": "B0OwmOc9HRuR"
      },
      "outputs": [],
      "source": [
        "# adding a message to the existing thread and running the agentic loop\n",
        "chat(agent, 'List my upcoming meetings on <DATE> and the three consecutive days, for each meeting, include: title, description (if available), location, time, participants', thread_id, local_tools_by_name=local_tools_by_name)"
      ]
    },
    {
      "cell_type": "markdown",
      "metadata": {
        "id": "obrBwvOiHRuR"
      },
      "source": [
        "##### Run Our Local Tool – Meeting Schedule PDF Calendar Example\n",
        "\n",
        "Now let’s use the local tool we just added — `export_meeting_schedule_pdf` — to create a PDF that summarizes your upcoming meetings for the week in a clean, formatted table.\n",
        "\n",
        "This example sends a follow-up prompt using the same memory thread, and triggers your custom local Python function from within the agent.\n",
        "\n",
        "When you run the code below, the agent will:\n",
        "\n",
        "- Continue the conversation from the current thread\n",
        "- Use your registered local tool to process meeting data\n",
        "- Generate and return a downloadable PDF agenda\n"
      ]
    },
    {
      "cell_type": "code",
      "execution_count": null,
      "metadata": {
        "id": "FSPoxDatHRuS"
      },
      "outputs": [],
      "source": [
        "chat(agent, \"Create meeting schedule for the upcoming 3 days, and export it as a PDF\", thread_id, local_tools_by_name=local_tools_by_name)"
      ]
    },
    {
      "cell_type": "markdown",
      "metadata": {
        "id": "pEnNxgUjHRuS"
      },
      "source": [
        "##### Recording Control Integration\n",
        "\n",
        "In this step, you’ll ask the agent to create a meeting recorder for one of your scheduled meetings and then check the status to retrieve the recording assets.\n",
        "\n",
        "This example continues using the same memory thread so the agent can keep track of your previous calendar request and match the correct meeting.\n",
        "\n",
        "---\n",
        "\n",
        "<div style=\"border-left: 4px solid #42b983; padding-left: 1em; margin: 1em 0; font-size: 14px; line-height: 1.8\">\n",
        "  <p>\n",
        "    <strong>🚨 Replace</strong> <code>&lt;MEETING_TITLE&gt;</code> <strong>with the exact title of the meeting you want to create a recorder for, from the list above.</strong><br>\n",
        "    <span> Example prompt:</span><br>\n",
        "    <code>Create a recorder for the Q2 Planning Sync.</code>\n",
        "  </p>\n",
        "</div>\n",
        "\n",
        "---\n",
        "\n",
        "When you run the code below, the agent will:\n",
        "\n",
        "- Attempt to create a recorder for the meeting title you specify\n",
        "- Track the status of the recorder\n",
        "- Return asset links (e.g. transcript or video) once the recording is complete\n"
      ]
    },
    {
      "cell_type": "code",
      "execution_count": null,
      "metadata": {
        "id": "d4wVdnxcHRuS"
      },
      "outputs": [],
      "source": [
        "# adding another message to the existing thread and running the agentic loop\n",
        "chat(agent, 'Create a recorder for the <MEETING_TITLE>.', thread_id, local_tools_by_name=local_tools_by_name)"
      ]
    },
    {
      "cell_type": "code",
      "execution_count": null,
      "metadata": {
        "id": "H1Y8rX9XHRuS"
      },
      "outputs": [],
      "source": [
        "chat(agent, 'Check the recorder status and give me the asset links if done.', thread_id, local_tools_by_name=local_tools_by_name)\n"
      ]
    },
    {
      "cell_type": "markdown",
      "metadata": {
        "id": "uj34-s0AHRuS"
      },
      "source": [
        "#### Email Delivery\n",
        "\n",
        "In this step, you'll ask the agent to email the recording assets (video and transcript) to a specific address along with a summary.\n",
        "\n",
        "Since the agent maintains context from earlier steps, it knows which meeting was recorded and where the assets came from.\n",
        "\n",
        "---\n",
        "\n",
        "<div style=\"border-left: 4px solid #42b983; padding-left: 1em; margin: 1em 0; font-size: 14px; line-height: 1.6\">\n",
        "  <p>\n",
        "    <strong>🚨 Replace</strong> <code>&lt;YOUR_EMAIL&gt;</code> <strong>with your actual email address.</strong><br>\n",
        "    <span> Example prompt:</span><br>\n",
        "    <code>Email the video & transcript to team@example.com with a summary.</code>\n",
        "  </p>\n",
        "</div>\n"
      ]
    },
    {
      "cell_type": "code",
      "execution_count": null,
      "metadata": {
        "id": "bJfY8-5OHRuS"
      },
      "outputs": [],
      "source": [
        "chat(agent, 'Email the video & transcript to <YOUR_EMAIL> with a summary.', thread_id, local_tools_by_name=local_tools_by_name)"
      ]
    },
    {
      "cell_type": "markdown",
      "metadata": {
        "id": "1pbiSqcCHRuS"
      },
      "source": [
        "## Next Steps - Building on Top of This Agent:\n",
        "\n",
        "This agent is just a starting point. You can extend it with xpander.ai by:\n",
        "\n",
        "- testing in the Visual Workbench\n",
        "- adding tools or changing the existing tools to other calendars\n",
        "- sending outputs via Slack, email, or webhooks\n",
        "- switching LLMs without code changes\n",
        "- managing state automatically\n",
        "- triggering from API, A2A, Slack, or Web UI\n",
        "- monitoring everything with built-in observability and version control.\n",
        "\n",
        "📚 See the [xpander docs](https://docs.xpander.ai?utm=atp) for deeper integrations."
      ]
    },
    {
      "cell_type": "markdown",
      "metadata": {
        "id": "Ax6MdWqTHRuS"
      },
      "source": [
        "## Conclusion\n",
        "\n",
        "In this tutorial, you’ve built a fully functional AI Meeting Recorder powered by xpander.ai and OpenAI. Along the way, we:\n",
        "\n",
        "1. Initialized a multi-step agent using xpander.ai\n",
        "2. Integrated Google Calendar for meeting discovery\n",
        "3. Triggered meeting recording and retrieved assets\n",
        "4. Summarized and emailed meeting notes all through an intelligent agent\n",
        "\n",
        "xpander.ai provides a powerful platform for building AI agents by simplifying service integrations and providing enterprise-ready features. This approach makes it easy to create, deploy, and scale AI-powered meeting solutions."
      ]
    }
  ],
  "metadata": {
    "kernelspec": {
      "display_name": "Python 3",
      "language": "python",
      "name": "python3"
    },
    "language_info": {
      "codemirror_mode": {
        "name": "ipython",
        "version": 3
      },
      "file_extension": ".py",
      "mimetype": "text/x-python",
      "name": "python",
      "nbconvert_exporter": "python",
      "pygments_lexer": "ipython3",
      "version": "3.12.7"
    },
    "colab": {
      "provenance": [],
      "include_colab_link": true
    }
  },
  "nbformat": 4,
  "nbformat_minor": 0
}